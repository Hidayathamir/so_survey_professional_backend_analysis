{
  "nbformat": 4,
  "nbformat_minor": 0,
  "metadata": {
    "colab": {
      "name": "so_survey_professional_backend_analysis.ipynb",
      "provenance": [],
      "collapsed_sections": [],
      "authorship_tag": "ABX9TyPoOFhjWStuSu49WpKrVIwa",
      "include_colab_link": true
    },
    "kernelspec": {
      "name": "python3",
      "display_name": "Python 3"
    },
    "language_info": {
      "name": "python"
    }
  },
  "cells": [
    {
      "cell_type": "markdown",
      "metadata": {
        "id": "view-in-github",
        "colab_type": "text"
      },
      "source": [
        "<a href=\"https://colab.research.google.com/github/Hidayathamir/so_survey_professional_backend_analysis/blob/main/so_survey_professional_backend_analysis.ipynb\" target=\"_parent\"><img src=\"https://colab.research.google.com/assets/colab-badge.svg\" alt=\"Open In Colab\"/></a>"
      ]
    },
    {
      "cell_type": "code",
      "metadata": {
        "id": "jfbmmW12dul9"
      },
      "source": [
        "from collections import Counter\n",
        "\n",
        "import matplotlib.pyplot as plt\n",
        "import pandas as pd\n",
        "import seaborn as sns"
      ],
      "execution_count": 1,
      "outputs": []
    },
    {
      "cell_type": "markdown",
      "metadata": {
        "id": "UBNhWknDf5Xo"
      },
      "source": [
        "# Get the data"
      ]
    },
    {
      "cell_type": "markdown",
      "metadata": {
        "id": "c0uttQSSf-CA"
      },
      "source": [
        "Download"
      ]
    },
    {
      "cell_type": "code",
      "metadata": {
        "colab": {
          "base_uri": "https://localhost:8080/"
        },
        "id": "RltrEmmWd_7O",
        "outputId": "3bcc28eb-d512-4638-f059-78d093872f8f"
      },
      "source": [
        "!wget https://info.stackoverflowsolutions.com/rs/719-EMH-566/images/stack-overflow-developer-survey-2021.zip"
      ],
      "execution_count": 2,
      "outputs": [
        {
          "output_type": "stream",
          "name": "stdout",
          "text": [
            "--2021-12-07 08:32:45--  https://info.stackoverflowsolutions.com/rs/719-EMH-566/images/stack-overflow-developer-survey-2021.zip\n",
            "Resolving info.stackoverflowsolutions.com (info.stackoverflowsolutions.com)... 104.17.72.206, 104.17.70.206, 104.17.71.206, ...\n",
            "Connecting to info.stackoverflowsolutions.com (info.stackoverflowsolutions.com)|104.17.72.206|:443... connected.\n",
            "HTTP request sent, awaiting response... 200 OK\n",
            "Length: 8825103 (8.4M) [application/zip]\n",
            "Saving to: ‘stack-overflow-developer-survey-2021.zip’\n",
            "\n",
            "stack-overflow-deve 100%[===================>]   8.42M  48.7MB/s    in 0.2s    \n",
            "\n",
            "2021-12-07 08:32:45 (48.7 MB/s) - ‘stack-overflow-developer-survey-2021.zip’ saved [8825103/8825103]\n",
            "\n"
          ]
        }
      ]
    },
    {
      "cell_type": "markdown",
      "metadata": {
        "id": "XDxBTBJ9gCS2"
      },
      "source": [
        "Extract"
      ]
    },
    {
      "cell_type": "code",
      "metadata": {
        "colab": {
          "base_uri": "https://localhost:8080/"
        },
        "id": "YJ4wEwjsfrZZ",
        "outputId": "17edd016-c72f-4382-f277-8fc98ef2e214"
      },
      "source": [
        "!unzip stack-overflow-developer-survey-2021.zip"
      ],
      "execution_count": 3,
      "outputs": [
        {
          "output_type": "stream",
          "name": "stdout",
          "text": [
            "Archive:  stack-overflow-developer-survey-2021.zip\n",
            "  inflating: README_2021.txt         \n",
            "  inflating: so_survey_2021.pdf      \n",
            "  inflating: survey_results_public.csv  \n",
            "  inflating: survey_results_schema.csv  \n"
          ]
        }
      ]
    },
    {
      "cell_type": "markdown",
      "metadata": {
        "id": "YRMK05f1gWtT"
      },
      "source": [
        "Load"
      ]
    },
    {
      "cell_type": "code",
      "metadata": {
        "id": "rRire4iagNBs"
      },
      "source": [
        "df = pd.read_csv('survey_results_public.csv')"
      ],
      "execution_count": 4,
      "outputs": []
    },
    {
      "cell_type": "markdown",
      "metadata": {
        "id": "fdwslV3Ogwyt"
      },
      "source": [
        "# Exploration"
      ]
    },
    {
      "cell_type": "markdown",
      "metadata": {
        "id": "tjBzk7oLsona"
      },
      "source": [
        "All data"
      ]
    },
    {
      "cell_type": "code",
      "metadata": {
        "colab": {
          "base_uri": "https://localhost:8080/",
          "height": 677
        },
        "id": "stHyw_m-g1Zo",
        "outputId": "f8a167a5-2d42-4a0d-a3c5-b9aad999e793"
      },
      "source": [
        "df.head()"
      ],
      "execution_count": 5,
      "outputs": [
        {
          "output_type": "execute_result",
          "data": {
            "text/html": [
              "<div>\n",
              "<style scoped>\n",
              "    .dataframe tbody tr th:only-of-type {\n",
              "        vertical-align: middle;\n",
              "    }\n",
              "\n",
              "    .dataframe tbody tr th {\n",
              "        vertical-align: top;\n",
              "    }\n",
              "\n",
              "    .dataframe thead th {\n",
              "        text-align: right;\n",
              "    }\n",
              "</style>\n",
              "<table border=\"1\" class=\"dataframe\">\n",
              "  <thead>\n",
              "    <tr style=\"text-align: right;\">\n",
              "      <th></th>\n",
              "      <th>ResponseId</th>\n",
              "      <th>MainBranch</th>\n",
              "      <th>Employment</th>\n",
              "      <th>Country</th>\n",
              "      <th>US_State</th>\n",
              "      <th>UK_Country</th>\n",
              "      <th>EdLevel</th>\n",
              "      <th>Age1stCode</th>\n",
              "      <th>LearnCode</th>\n",
              "      <th>YearsCode</th>\n",
              "      <th>YearsCodePro</th>\n",
              "      <th>DevType</th>\n",
              "      <th>OrgSize</th>\n",
              "      <th>Currency</th>\n",
              "      <th>CompTotal</th>\n",
              "      <th>CompFreq</th>\n",
              "      <th>LanguageHaveWorkedWith</th>\n",
              "      <th>LanguageWantToWorkWith</th>\n",
              "      <th>DatabaseHaveWorkedWith</th>\n",
              "      <th>DatabaseWantToWorkWith</th>\n",
              "      <th>PlatformHaveWorkedWith</th>\n",
              "      <th>PlatformWantToWorkWith</th>\n",
              "      <th>WebframeHaveWorkedWith</th>\n",
              "      <th>WebframeWantToWorkWith</th>\n",
              "      <th>MiscTechHaveWorkedWith</th>\n",
              "      <th>MiscTechWantToWorkWith</th>\n",
              "      <th>ToolsTechHaveWorkedWith</th>\n",
              "      <th>ToolsTechWantToWorkWith</th>\n",
              "      <th>NEWCollabToolsHaveWorkedWith</th>\n",
              "      <th>NEWCollabToolsWantToWorkWith</th>\n",
              "      <th>OpSys</th>\n",
              "      <th>NEWStuck</th>\n",
              "      <th>NEWSOSites</th>\n",
              "      <th>SOVisitFreq</th>\n",
              "      <th>SOAccount</th>\n",
              "      <th>SOPartFreq</th>\n",
              "      <th>SOComm</th>\n",
              "      <th>NEWOtherComms</th>\n",
              "      <th>Age</th>\n",
              "      <th>Gender</th>\n",
              "      <th>Trans</th>\n",
              "      <th>Sexuality</th>\n",
              "      <th>Ethnicity</th>\n",
              "      <th>Accessibility</th>\n",
              "      <th>MentalHealth</th>\n",
              "      <th>SurveyLength</th>\n",
              "      <th>SurveyEase</th>\n",
              "      <th>ConvertedCompYearly</th>\n",
              "    </tr>\n",
              "  </thead>\n",
              "  <tbody>\n",
              "    <tr>\n",
              "      <th>0</th>\n",
              "      <td>1</td>\n",
              "      <td>I am a developer by profession</td>\n",
              "      <td>Independent contractor, freelancer, or self-em...</td>\n",
              "      <td>Slovakia</td>\n",
              "      <td>NaN</td>\n",
              "      <td>NaN</td>\n",
              "      <td>Secondary school (e.g. American high school, G...</td>\n",
              "      <td>18 - 24 years</td>\n",
              "      <td>Coding Bootcamp;Other online resources (ex: vi...</td>\n",
              "      <td>NaN</td>\n",
              "      <td>NaN</td>\n",
              "      <td>Developer, mobile</td>\n",
              "      <td>20 to 99 employees</td>\n",
              "      <td>EUR European Euro</td>\n",
              "      <td>4800.0</td>\n",
              "      <td>Monthly</td>\n",
              "      <td>C++;HTML/CSS;JavaScript;Objective-C;PHP;Swift</td>\n",
              "      <td>Swift</td>\n",
              "      <td>PostgreSQL;SQLite</td>\n",
              "      <td>SQLite</td>\n",
              "      <td>NaN</td>\n",
              "      <td>NaN</td>\n",
              "      <td>Laravel;Symfony</td>\n",
              "      <td>NaN</td>\n",
              "      <td>NaN</td>\n",
              "      <td>NaN</td>\n",
              "      <td>NaN</td>\n",
              "      <td>NaN</td>\n",
              "      <td>PHPStorm;Xcode</td>\n",
              "      <td>Atom;Xcode</td>\n",
              "      <td>MacOS</td>\n",
              "      <td>Call a coworker or friend;Visit Stack Overflow...</td>\n",
              "      <td>Stack Overflow</td>\n",
              "      <td>Multiple times per day</td>\n",
              "      <td>Yes</td>\n",
              "      <td>A few times per month or weekly</td>\n",
              "      <td>Yes, definitely</td>\n",
              "      <td>No</td>\n",
              "      <td>25-34 years old</td>\n",
              "      <td>Man</td>\n",
              "      <td>No</td>\n",
              "      <td>Straight / Heterosexual</td>\n",
              "      <td>White or of European descent</td>\n",
              "      <td>None of the above</td>\n",
              "      <td>None of the above</td>\n",
              "      <td>Appropriate in length</td>\n",
              "      <td>Easy</td>\n",
              "      <td>62268.0</td>\n",
              "    </tr>\n",
              "    <tr>\n",
              "      <th>1</th>\n",
              "      <td>2</td>\n",
              "      <td>I am a student who is learning to code</td>\n",
              "      <td>Student, full-time</td>\n",
              "      <td>Netherlands</td>\n",
              "      <td>NaN</td>\n",
              "      <td>NaN</td>\n",
              "      <td>Bachelor’s degree (B.A., B.S., B.Eng., etc.)</td>\n",
              "      <td>11 - 17 years</td>\n",
              "      <td>Other online resources (ex: videos, blogs, etc...</td>\n",
              "      <td>7</td>\n",
              "      <td>NaN</td>\n",
              "      <td>NaN</td>\n",
              "      <td>NaN</td>\n",
              "      <td>NaN</td>\n",
              "      <td>NaN</td>\n",
              "      <td>NaN</td>\n",
              "      <td>JavaScript;Python</td>\n",
              "      <td>NaN</td>\n",
              "      <td>PostgreSQL</td>\n",
              "      <td>NaN</td>\n",
              "      <td>NaN</td>\n",
              "      <td>NaN</td>\n",
              "      <td>Angular;Flask;Vue.js</td>\n",
              "      <td>NaN</td>\n",
              "      <td>Cordova</td>\n",
              "      <td>NaN</td>\n",
              "      <td>Docker;Git;Yarn</td>\n",
              "      <td>Git</td>\n",
              "      <td>Android Studio;IntelliJ;Notepad++;PyCharm</td>\n",
              "      <td>NaN</td>\n",
              "      <td>Windows</td>\n",
              "      <td>Visit Stack Overflow;Google it</td>\n",
              "      <td>Stack Overflow</td>\n",
              "      <td>Daily or almost daily</td>\n",
              "      <td>Yes</td>\n",
              "      <td>Daily or almost daily</td>\n",
              "      <td>Yes, definitely</td>\n",
              "      <td>No</td>\n",
              "      <td>18-24 years old</td>\n",
              "      <td>Man</td>\n",
              "      <td>No</td>\n",
              "      <td>Straight / Heterosexual</td>\n",
              "      <td>White or of European descent</td>\n",
              "      <td>None of the above</td>\n",
              "      <td>None of the above</td>\n",
              "      <td>Appropriate in length</td>\n",
              "      <td>Easy</td>\n",
              "      <td>NaN</td>\n",
              "    </tr>\n",
              "    <tr>\n",
              "      <th>2</th>\n",
              "      <td>3</td>\n",
              "      <td>I am not primarily a developer, but I write co...</td>\n",
              "      <td>Student, full-time</td>\n",
              "      <td>Russian Federation</td>\n",
              "      <td>NaN</td>\n",
              "      <td>NaN</td>\n",
              "      <td>Bachelor’s degree (B.A., B.S., B.Eng., etc.)</td>\n",
              "      <td>11 - 17 years</td>\n",
              "      <td>Other online resources (ex: videos, blogs, etc...</td>\n",
              "      <td>NaN</td>\n",
              "      <td>NaN</td>\n",
              "      <td>NaN</td>\n",
              "      <td>NaN</td>\n",
              "      <td>NaN</td>\n",
              "      <td>NaN</td>\n",
              "      <td>NaN</td>\n",
              "      <td>Assembly;C;Python;R;Rust</td>\n",
              "      <td>Julia;Python;Rust</td>\n",
              "      <td>SQLite</td>\n",
              "      <td>SQLite</td>\n",
              "      <td>Heroku</td>\n",
              "      <td>NaN</td>\n",
              "      <td>Flask</td>\n",
              "      <td>Flask</td>\n",
              "      <td>NumPy;Pandas;TensorFlow;Torch/PyTorch</td>\n",
              "      <td>Keras;NumPy;Pandas;TensorFlow;Torch/PyTorch</td>\n",
              "      <td>NaN</td>\n",
              "      <td>NaN</td>\n",
              "      <td>IPython/Jupyter;PyCharm;RStudio;Sublime Text;V...</td>\n",
              "      <td>IPython/Jupyter;RStudio;Sublime Text;Visual St...</td>\n",
              "      <td>MacOS</td>\n",
              "      <td>Visit Stack Overflow;Google it;Watch help / tu...</td>\n",
              "      <td>Stack Overflow;Stack Exchange</td>\n",
              "      <td>Multiple times per day</td>\n",
              "      <td>Yes</td>\n",
              "      <td>Multiple times per day</td>\n",
              "      <td>Yes, definitely</td>\n",
              "      <td>Yes</td>\n",
              "      <td>18-24 years old</td>\n",
              "      <td>Man</td>\n",
              "      <td>No</td>\n",
              "      <td>Prefer not to say</td>\n",
              "      <td>Prefer not to say</td>\n",
              "      <td>None of the above</td>\n",
              "      <td>None of the above</td>\n",
              "      <td>Appropriate in length</td>\n",
              "      <td>Easy</td>\n",
              "      <td>NaN</td>\n",
              "    </tr>\n",
              "    <tr>\n",
              "      <th>3</th>\n",
              "      <td>4</td>\n",
              "      <td>I am a developer by profession</td>\n",
              "      <td>Employed full-time</td>\n",
              "      <td>Austria</td>\n",
              "      <td>NaN</td>\n",
              "      <td>NaN</td>\n",
              "      <td>Master’s degree (M.A., M.S., M.Eng., MBA, etc.)</td>\n",
              "      <td>11 - 17 years</td>\n",
              "      <td>NaN</td>\n",
              "      <td>NaN</td>\n",
              "      <td>NaN</td>\n",
              "      <td>Developer, front-end</td>\n",
              "      <td>100 to 499 employees</td>\n",
              "      <td>EUR European Euro</td>\n",
              "      <td>NaN</td>\n",
              "      <td>Monthly</td>\n",
              "      <td>JavaScript;TypeScript</td>\n",
              "      <td>JavaScript;TypeScript</td>\n",
              "      <td>NaN</td>\n",
              "      <td>NaN</td>\n",
              "      <td>NaN</td>\n",
              "      <td>NaN</td>\n",
              "      <td>Angular;jQuery</td>\n",
              "      <td>Angular;jQuery</td>\n",
              "      <td>NaN</td>\n",
              "      <td>NaN</td>\n",
              "      <td>NaN</td>\n",
              "      <td>NaN</td>\n",
              "      <td>NaN</td>\n",
              "      <td>NaN</td>\n",
              "      <td>Windows</td>\n",
              "      <td>Call a coworker or friend;Visit Stack Overflow...</td>\n",
              "      <td>Stack Overflow</td>\n",
              "      <td>Daily or almost daily</td>\n",
              "      <td>Yes</td>\n",
              "      <td>Daily or almost daily</td>\n",
              "      <td>Neutral</td>\n",
              "      <td>No</td>\n",
              "      <td>35-44 years old</td>\n",
              "      <td>Man</td>\n",
              "      <td>No</td>\n",
              "      <td>Straight / Heterosexual</td>\n",
              "      <td>White or of European descent</td>\n",
              "      <td>I am deaf / hard of hearing</td>\n",
              "      <td>NaN</td>\n",
              "      <td>Appropriate in length</td>\n",
              "      <td>Neither easy nor difficult</td>\n",
              "      <td>NaN</td>\n",
              "    </tr>\n",
              "    <tr>\n",
              "      <th>4</th>\n",
              "      <td>5</td>\n",
              "      <td>I am a developer by profession</td>\n",
              "      <td>Independent contractor, freelancer, or self-em...</td>\n",
              "      <td>United Kingdom of Great Britain and Northern I...</td>\n",
              "      <td>NaN</td>\n",
              "      <td>England</td>\n",
              "      <td>Master’s degree (M.A., M.S., M.Eng., MBA, etc.)</td>\n",
              "      <td>5 - 10 years</td>\n",
              "      <td>Friend or family member</td>\n",
              "      <td>17</td>\n",
              "      <td>10</td>\n",
              "      <td>Developer, desktop or enterprise applications;...</td>\n",
              "      <td>Just me - I am a freelancer, sole proprietor, ...</td>\n",
              "      <td>GBP\\tPound sterling</td>\n",
              "      <td>NaN</td>\n",
              "      <td>NaN</td>\n",
              "      <td>Bash/Shell;HTML/CSS;Python;SQL</td>\n",
              "      <td>Bash/Shell;HTML/CSS;Python;SQL</td>\n",
              "      <td>Elasticsearch;PostgreSQL;Redis</td>\n",
              "      <td>Cassandra;Elasticsearch;PostgreSQL;Redis</td>\n",
              "      <td>NaN</td>\n",
              "      <td>NaN</td>\n",
              "      <td>Flask</td>\n",
              "      <td>Flask</td>\n",
              "      <td>Apache Spark;Hadoop;NumPy;Pandas</td>\n",
              "      <td>Hadoop;NumPy;Pandas</td>\n",
              "      <td>Docker;Git;Kubernetes;Yarn</td>\n",
              "      <td>Docker;Git;Kubernetes;Yarn</td>\n",
              "      <td>Atom;IPython/Jupyter;Notepad++;PyCharm;Vim</td>\n",
              "      <td>Atom;IPython/Jupyter;Notepad++;PyCharm;Vim;Vis...</td>\n",
              "      <td>Linux-based</td>\n",
              "      <td>Visit Stack Overflow;Go for a walk or other ph...</td>\n",
              "      <td>Stack Overflow;Stack Exchange</td>\n",
              "      <td>Daily or almost daily</td>\n",
              "      <td>Yes</td>\n",
              "      <td>A few times per week</td>\n",
              "      <td>Yes, somewhat</td>\n",
              "      <td>No</td>\n",
              "      <td>25-34 years old</td>\n",
              "      <td>Man</td>\n",
              "      <td>No</td>\n",
              "      <td>NaN</td>\n",
              "      <td>White or of European descent</td>\n",
              "      <td>None of the above</td>\n",
              "      <td>NaN</td>\n",
              "      <td>Appropriate in length</td>\n",
              "      <td>Easy</td>\n",
              "      <td>NaN</td>\n",
              "    </tr>\n",
              "  </tbody>\n",
              "</table>\n",
              "</div>"
            ],
            "text/plain": [
              "   ResponseId  ... ConvertedCompYearly\n",
              "0           1  ...             62268.0\n",
              "1           2  ...                 NaN\n",
              "2           3  ...                 NaN\n",
              "3           4  ...                 NaN\n",
              "4           5  ...                 NaN\n",
              "\n",
              "[5 rows x 48 columns]"
            ]
          },
          "metadata": {},
          "execution_count": 5
        }
      ]
    },
    {
      "cell_type": "markdown",
      "metadata": {
        "id": "yNgtiRZPsqPD"
      },
      "source": [
        "Detail column"
      ]
    },
    {
      "cell_type": "code",
      "metadata": {
        "colab": {
          "base_uri": "https://localhost:8080/"
        },
        "id": "fT0ei1vlkIig",
        "outputId": "83c32f3a-99ab-4a4e-806e-f1fbdbb68255"
      },
      "source": [
        "df.info()"
      ],
      "execution_count": 6,
      "outputs": [
        {
          "output_type": "stream",
          "name": "stdout",
          "text": [
            "<class 'pandas.core.frame.DataFrame'>\n",
            "RangeIndex: 83439 entries, 0 to 83438\n",
            "Data columns (total 48 columns):\n",
            " #   Column                        Non-Null Count  Dtype  \n",
            "---  ------                        --------------  -----  \n",
            " 0   ResponseId                    83439 non-null  int64  \n",
            " 1   MainBranch                    83439 non-null  object \n",
            " 2   Employment                    83323 non-null  object \n",
            " 3   Country                       83439 non-null  object \n",
            " 4   US_State                      14920 non-null  object \n",
            " 5   UK_Country                    4418 non-null   object \n",
            " 6   EdLevel                       83126 non-null  object \n",
            " 7   Age1stCode                    83243 non-null  object \n",
            " 8   LearnCode                     82963 non-null  object \n",
            " 9   YearsCode                     81641 non-null  object \n",
            " 10  YearsCodePro                  61216 non-null  object \n",
            " 11  DevType                       66484 non-null  object \n",
            " 12  OrgSize                       60726 non-null  object \n",
            " 13  Currency                      61080 non-null  object \n",
            " 14  CompTotal                     47183 non-null  float64\n",
            " 15  CompFreq                      52150 non-null  object \n",
            " 16  LanguageHaveWorkedWith        82357 non-null  object \n",
            " 17  LanguageWantToWorkWith        76821 non-null  object \n",
            " 18  DatabaseHaveWorkedWith        69546 non-null  object \n",
            " 19  DatabaseWantToWorkWith        58299 non-null  object \n",
            " 20  PlatformHaveWorkedWith        52135 non-null  object \n",
            " 21  PlatformWantToWorkWith        41619 non-null  object \n",
            " 22  WebframeHaveWorkedWith        61707 non-null  object \n",
            " 23  WebframeWantToWorkWith        52095 non-null  object \n",
            " 24  MiscTechHaveWorkedWith        47055 non-null  object \n",
            " 25  MiscTechWantToWorkWith        38021 non-null  object \n",
            " 26  ToolsTechHaveWorkedWith       72537 non-null  object \n",
            " 27  ToolsTechWantToWorkWith       65480 non-null  object \n",
            " 28  NEWCollabToolsHaveWorkedWith  81234 non-null  object \n",
            " 29  NEWCollabToolsWantToWorkWith  73022 non-null  object \n",
            " 30  OpSys                         83294 non-null  object \n",
            " 31  NEWStuck                      83052 non-null  object \n",
            " 32  NEWSOSites                    83171 non-null  object \n",
            " 33  SOVisitFreq                   82413 non-null  object \n",
            " 34  SOAccount                     82525 non-null  object \n",
            " 35  SOPartFreq                    67553 non-null  object \n",
            " 36  SOComm                        82319 non-null  object \n",
            " 37  NEWOtherComms                 82828 non-null  object \n",
            " 38  Age                           82407 non-null  object \n",
            " 39  Gender                        82286 non-null  object \n",
            " 40  Trans                         80678 non-null  object \n",
            " 41  Sexuality                     73366 non-null  object \n",
            " 42  Ethnicity                     79464 non-null  object \n",
            " 43  Accessibility                 77603 non-null  object \n",
            " 44  MentalHealth                  76920 non-null  object \n",
            " 45  SurveyLength                  81711 non-null  object \n",
            " 46  SurveyEase                    81948 non-null  object \n",
            " 47  ConvertedCompYearly           46844 non-null  float64\n",
            "dtypes: float64(2), int64(1), object(45)\n",
            "memory usage: 30.6+ MB\n"
          ]
        }
      ]
    },
    {
      "cell_type": "markdown",
      "metadata": {
        "id": "CMjcSCbspmIm"
      },
      "source": [
        "Drop row if used_column is Null"
      ]
    },
    {
      "cell_type": "code",
      "metadata": {
        "id": "Ly3FUaAjoPqN"
      },
      "source": [
        "used_column = ['MainBranch', 'DevType', 'LanguageHaveWorkedWith', 'LanguageWantToWorkWith', 'WebframeHaveWorkedWith', 'WebframeWantToWorkWith']\n",
        "df = df.dropna(subset=used_column)"
      ],
      "execution_count": 7,
      "outputs": []
    },
    {
      "cell_type": "markdown",
      "metadata": {
        "id": "LzPd-98O6hLH"
      },
      "source": [
        "Only see professional backend developer"
      ]
    },
    {
      "cell_type": "code",
      "metadata": {
        "id": "JJACphKHhVhg"
      },
      "source": [
        "main_branch_profession_filter = df.MainBranch.str.contains('I am a developer by profession')\n",
        "dev_type_backend_filter = df.DevType.str.contains('back-end')\n",
        "df_backend_profession = df[dev_type_backend_filter & main_branch_profession_filter]"
      ],
      "execution_count": 8,
      "outputs": []
    },
    {
      "cell_type": "code",
      "metadata": {
        "colab": {
          "base_uri": "https://localhost:8080/",
          "height": 622
        },
        "id": "4LkG_Gt5l-cw",
        "outputId": "41c580ae-cf8e-45c2-c4f5-58deba6d3725"
      },
      "source": [
        "c = Counter()\n",
        "for i in df_backend_profession.LanguageHaveWorkedWith.str.split(';'):\n",
        "    c += Counter(i)\n",
        "c = c.most_common()\n",
        "x = [i[0] for i in c][:15]\n",
        "y = [i[1] for i in c][:15]\n",
        "plt.figure(figsize=(6,10))\n",
        "chart = sns.barplot(x=y,y=x, orient='h')\n",
        "chart.set(xlim=(0,18000))\n",
        "chart.xaxis.tick_top()\n",
        "chart.set_title('As backend professional what\\nis the most popular language?', weight='bold')\n",
        "plt.savefig('pop_lang.png')\n",
        "plt.show()"
      ],
      "execution_count": 9,
      "outputs": [
        {
          "output_type": "display_data",
          "data": {
            "image/png": "[encoded data removed]",
            "text/plain": [
              "<Figure size 432x720 with 1 Axes>"
            ]
          },
          "metadata": {
            "needs_background": "light"
          }
        }
      ]
    },
    {
      "cell_type": "markdown",
      "metadata": {
        "id": "nhi5B1fcu4gT"
      },
      "source": [
        "Most common language want to work with"
      ]
    },
    {
      "cell_type": "code",
      "metadata": {
        "colab": {
          "base_uri": "https://localhost:8080/",
          "height": 622
        },
        "id": "6sm5sJqwsBEB",
        "outputId": "e70e84a4-d44d-413f-eff6-dbc0c54efa61"
      },
      "source": [
        "c = Counter()\n",
        "for i in df_backend_profession.LanguageWantToWorkWith.str.split(';'):\n",
        "    c += Counter(i)\n",
        "c = c.most_common()\n",
        "x = [i[0] for i in c][:15]\n",
        "y = [i[1] for i in c][:15]\n",
        "plt.figure(figsize=(6,10))\n",
        "chart = sns.barplot(x=y,y=x, orient='h')\n",
        "chart.set(xlim=(0,18000))\n",
        "chart.xaxis.tick_top()\n",
        "chart.set_title('As backend professional what is the\\nmost language people want to work with?', weight='bold')\n",
        "plt.savefig('want_lang.png')\n",
        "plt.show()"
      ],
      "execution_count": 10,
      "outputs": [
        {
          "output_type": "display_data",
          "data": {
            "image/png": "[encoded data removed]",
            "text/plain": [
              "<Figure size 432x720 with 1 Axes>"
            ]
          },
          "metadata": {
            "needs_background": "light"
          }
        }
      ]
    },
    {
      "cell_type": "code",
      "metadata": {
        "colab": {
          "base_uri": "https://localhost:8080/",
          "height": 622
        },
        "id": "S7p_bR864Fgi",
        "outputId": "188a1eb8-e0e6-48d1-f22b-285d044f4bc5"
      },
      "source": [
        "c = Counter()\n",
        "for i in df_backend_profession.WebframeHaveWorkedWith.str.split(';'):\n",
        "    c += Counter(i)\n",
        "c = c.most_common()\n",
        "x = [i[0] for i in c][:15]\n",
        "y = [i[1] for i in c][:15]\n",
        "plt.figure(figsize=(6,10))\n",
        "chart = sns.barplot(x=y,y=x, orient='h')\n",
        "chart.set(xlim=(0,10000))\n",
        "chart.xaxis.tick_top()\n",
        "chart.set_title('As backend professional what is\\nthe most popular web framework?', weight='bold')\n",
        "plt.savefig('pop_webfw.png')\n",
        "plt.show()"
      ],
      "execution_count": 11,
      "outputs": [
        {
          "output_type": "display_data",
          "data": {
            "image/png": "[encoded data removed]",
            "text/plain": [
              "<Figure size 432x720 with 1 Axes>"
            ]
          },
          "metadata": {
            "needs_background": "light"
          }
        }
      ]
    },
    {
      "cell_type": "code",
      "metadata": {
        "colab": {
          "base_uri": "https://localhost:8080/",
          "height": 622
        },
        "id": "WCyfIMkA616U",
        "outputId": "d7083bb6-2af9-4623-cab0-e4f60d599d67"
      },
      "source": [
        "c = Counter()\n",
        "for i in df_backend_profession.WebframeWantToWorkWith.str.split(';'):\n",
        "    c += Counter(i)\n",
        "c = c.most_common()\n",
        "x = [i[0] for i in c][:15]\n",
        "y = [i[1] for i in c][:15]\n",
        "plt.figure(figsize=(6,10))\n",
        "chart = sns.barplot(x=y,y=x, orient='h')\n",
        "chart.set(xlim=(0,10000))\n",
        "chart.xaxis.tick_top()\n",
        "chart.set_title('As backend professional what is the most\\nweb framework people want to work with?', weight='bold')\n",
        "plt.savefig('want_webfw.png')\n",
        "plt.show()"
      ],
      "execution_count": 12,
      "outputs": [
        {
          "output_type": "display_data",
          "data": {
            "image/png": "[encoded data removed]",
            "text/plain": [
              "<Figure size 432x720 with 1 Axes>"
            ]
          },
          "metadata": {
            "needs_background": "light"
          }
        }
      ]
    }
  ]
}